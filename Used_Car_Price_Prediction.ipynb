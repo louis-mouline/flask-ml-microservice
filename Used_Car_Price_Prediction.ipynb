{
 "cells": [
  {
   "cell_type": "markdown",
   "metadata": {},
   "source": [
    "## Used car price predictions\n",
    "\n",
    "The objective of this project is to build a Machine Learning model which is able to predict the price of a used car in the UK.\n",
    "\n",
    "### Import libraries"
   ]
  },
  {
   "cell_type": "code",
   "execution_count": 1,
   "metadata": {},
   "outputs": [
    {
     "name": "stdout",
     "output_type": "stream",
     "text": [
      "Python's version: 3.9.7 (default, Sep 16 2021, 16:59:28) [MSC v.1916 64 bit (AMD64)]\n"
     ]
    }
   ],
   "source": [
    "import sys\n",
    "\n",
    "print(f\"Python's version: {sys.version}\")"
   ]
  },
  {
   "cell_type": "code",
   "execution_count": 2,
   "metadata": {},
   "outputs": [],
   "source": [
    "# General libraries\n",
    "import os\n",
    "import numpy as np\n",
    "import pandas as pd\n",
    "import seaborn as sns\n",
    "\n",
    "# ML libraries\n",
    "import joblib\n",
    "from sklearn import set_config\n",
    "import category_encoders as ce \n",
    "from sklearn.pipeline import Pipeline\n",
    "from sklearn.compose import ColumnTransformer\n",
    "from sklearn.metrics import mean_squared_error\n",
    "from sklearn.linear_model import Ridge\n",
    "from sklearn.preprocessing import OneHotEncoder, StandardScaler\n",
    "from sklearn.model_selection import train_test_split, GridSearchCV\n",
    "\n",
    "set_config(display='diagram')"
   ]
  },
  {
   "cell_type": "markdown",
   "metadata": {},
   "source": [
    "### Ingest\n",
    "\n",
    "Source of the dataset: [Kaggle - 100.000 UK Used cars](https://www.kaggle.com/adityadesai13/used-car-dataset-ford-and-mercedes)"
   ]
  },
  {
   "cell_type": "code",
   "execution_count": 3,
   "metadata": {},
   "outputs": [
    {
     "name": "stdout",
     "output_type": "stream",
     "text": [
      "['audi.csv', 'bmw.csv', 'cclass.csv', 'focus.csv', 'ford.csv', 'hyundi.csv', 'merc.csv', 'skoda.csv', 'toyota.csv', 'unclean cclass.csv', 'unclean focus.csv', 'vauxhall.csv', 'vw.csv']\n"
     ]
    }
   ],
   "source": [
    "# Check list of files\n",
    "path_data = \"./data\"\n",
    "path_data_raw = os.path.join(path_data, \"raw\")\n",
    "path_data_interim = os.path.join(path_data, \"interim\")\n",
    "path_data_processed = os.path.join(path_data, \"processed\")\n",
    "\n",
    "print(os.listdir(path_data_raw))"
   ]
  },
  {
   "cell_type": "code",
   "execution_count": 4,
   "metadata": {},
   "outputs": [
    {
     "name": "stdout",
     "output_type": "stream",
     "text": [
      "dict_keys(['audi', 'bmw', 'ford', 'hyundi', 'merc', 'skoda', 'toyota', 'vauxhall', 'vw'])\n"
     ]
    }
   ],
   "source": [
    "# We want to import every .csv files except the old versions\n",
    "# To be ignored: 'cclass.csv', 'focus.csv', 'unclean cclass.csv' & 'unclean focus.csv'\n",
    "ignored_files = ['cclass.csv', 'focus.csv', 'unclean cclass.csv', 'unclean focus.csv']\n",
    "\n",
    "brands = {}\n",
    "\n",
    "for file in os.listdir(path_data_raw):\n",
    "    if not file in ignored_files:\n",
    "        brands[file[:-4]] = pd.read_csv(os.path.join(path_data_raw, file))\n",
    "\n",
    "print(brands.keys())"
   ]
  },
  {
   "cell_type": "code",
   "execution_count": 5,
   "metadata": {},
   "outputs": [
    {
     "name": "stdout",
     "output_type": "stream",
     "text": [
      "audi\n",
      "Index(['model', 'year', 'price', 'transmission', 'mileage', 'fuelType', 'tax',\n",
      "       'mpg', 'engineSize'],\n",
      "      dtype='object')\n",
      "\n",
      "bmw\n",
      "Index(['model', 'year', 'price', 'transmission', 'mileage', 'fuelType', 'tax',\n",
      "       'mpg', 'engineSize'],\n",
      "      dtype='object')\n",
      "\n",
      "ford\n",
      "Index(['model', 'year', 'price', 'transmission', 'mileage', 'fuelType', 'tax',\n",
      "       'mpg', 'engineSize'],\n",
      "      dtype='object')\n",
      "\n",
      "hyundi\n",
      "Index(['model', 'year', 'price', 'transmission', 'mileage', 'fuelType',\n",
      "       'tax(£)', 'mpg', 'engineSize'],\n",
      "      dtype='object')\n",
      "\n",
      "merc\n",
      "Index(['model', 'year', 'price', 'transmission', 'mileage', 'fuelType', 'tax',\n",
      "       'mpg', 'engineSize'],\n",
      "      dtype='object')\n",
      "\n",
      "skoda\n",
      "Index(['model', 'year', 'price', 'transmission', 'mileage', 'fuelType', 'tax',\n",
      "       'mpg', 'engineSize'],\n",
      "      dtype='object')\n",
      "\n",
      "toyota\n",
      "Index(['model', 'year', 'price', 'transmission', 'mileage', 'fuelType', 'tax',\n",
      "       'mpg', 'engineSize'],\n",
      "      dtype='object')\n",
      "\n",
      "vauxhall\n",
      "Index(['model', 'year', 'price', 'transmission', 'mileage', 'fuelType', 'tax',\n",
      "       'mpg', 'engineSize'],\n",
      "      dtype='object')\n",
      "\n",
      "vw\n",
      "Index(['model', 'year', 'price', 'transmission', 'mileage', 'fuelType', 'tax',\n",
      "       'mpg', 'engineSize'],\n",
      "      dtype='object')\n",
      "\n"
     ]
    }
   ],
   "source": [
    "# Check if all databases have same columns\n",
    "for brand, brand_data in brands.items():\n",
    "    print(brand)\n",
    "    print(brand_data.columns, end=\"\\n\\n\")"
   ]
  },
  {
   "cell_type": "code",
   "execution_count": 6,
   "metadata": {},
   "outputs": [
    {
     "data": {
      "text/html": [
       "<div>\n",
       "<style scoped>\n",
       "    .dataframe tbody tr th:only-of-type {\n",
       "        vertical-align: middle;\n",
       "    }\n",
       "\n",
       "    .dataframe tbody tr th {\n",
       "        vertical-align: top;\n",
       "    }\n",
       "\n",
       "    .dataframe thead th {\n",
       "        text-align: right;\n",
       "    }\n",
       "</style>\n",
       "<table border=\"1\" class=\"dataframe\">\n",
       "  <thead>\n",
       "    <tr style=\"text-align: right;\">\n",
       "      <th></th>\n",
       "      <th>model</th>\n",
       "      <th>year</th>\n",
       "      <th>price</th>\n",
       "      <th>transmission</th>\n",
       "      <th>mileage</th>\n",
       "      <th>fuelType</th>\n",
       "      <th>tax</th>\n",
       "      <th>mpg</th>\n",
       "      <th>engineSize</th>\n",
       "      <th>manufacter</th>\n",
       "    </tr>\n",
       "  </thead>\n",
       "  <tbody>\n",
       "    <tr>\n",
       "      <th>0</th>\n",
       "      <td>A1</td>\n",
       "      <td>2017</td>\n",
       "      <td>12500</td>\n",
       "      <td>Manual</td>\n",
       "      <td>15735</td>\n",
       "      <td>Petrol</td>\n",
       "      <td>150</td>\n",
       "      <td>55.4</td>\n",
       "      <td>1.4</td>\n",
       "      <td>audi</td>\n",
       "    </tr>\n",
       "    <tr>\n",
       "      <th>1</th>\n",
       "      <td>A6</td>\n",
       "      <td>2016</td>\n",
       "      <td>16500</td>\n",
       "      <td>Automatic</td>\n",
       "      <td>36203</td>\n",
       "      <td>Diesel</td>\n",
       "      <td>20</td>\n",
       "      <td>64.2</td>\n",
       "      <td>2.0</td>\n",
       "      <td>audi</td>\n",
       "    </tr>\n",
       "    <tr>\n",
       "      <th>2</th>\n",
       "      <td>A1</td>\n",
       "      <td>2016</td>\n",
       "      <td>11000</td>\n",
       "      <td>Manual</td>\n",
       "      <td>29946</td>\n",
       "      <td>Petrol</td>\n",
       "      <td>30</td>\n",
       "      <td>55.4</td>\n",
       "      <td>1.4</td>\n",
       "      <td>audi</td>\n",
       "    </tr>\n",
       "    <tr>\n",
       "      <th>3</th>\n",
       "      <td>A4</td>\n",
       "      <td>2017</td>\n",
       "      <td>16800</td>\n",
       "      <td>Automatic</td>\n",
       "      <td>25952</td>\n",
       "      <td>Diesel</td>\n",
       "      <td>145</td>\n",
       "      <td>67.3</td>\n",
       "      <td>2.0</td>\n",
       "      <td>audi</td>\n",
       "    </tr>\n",
       "    <tr>\n",
       "      <th>4</th>\n",
       "      <td>A3</td>\n",
       "      <td>2019</td>\n",
       "      <td>17300</td>\n",
       "      <td>Manual</td>\n",
       "      <td>1998</td>\n",
       "      <td>Petrol</td>\n",
       "      <td>145</td>\n",
       "      <td>49.6</td>\n",
       "      <td>1.0</td>\n",
       "      <td>audi</td>\n",
       "    </tr>\n",
       "  </tbody>\n",
       "</table>\n",
       "</div>"
      ],
      "text/plain": [
       "  model  year  price transmission  mileage fuelType  tax   mpg  engineSize  \\\n",
       "0    A1  2017  12500       Manual    15735   Petrol  150  55.4         1.4   \n",
       "1    A6  2016  16500    Automatic    36203   Diesel   20  64.2         2.0   \n",
       "2    A1  2016  11000       Manual    29946   Petrol   30  55.4         1.4   \n",
       "3    A4  2017  16800    Automatic    25952   Diesel  145  67.3         2.0   \n",
       "4    A3  2019  17300       Manual     1998   Petrol  145  49.6         1.0   \n",
       "\n",
       "  manufacter  \n",
       "0       audi  \n",
       "1       audi  \n",
       "2       audi  \n",
       "3       audi  \n",
       "4       audi  "
      ]
     },
     "execution_count": 6,
     "metadata": {},
     "output_type": "execute_result"
    }
   ],
   "source": [
    "# Merge all datasets\n",
    "brands_data = []\n",
    "\n",
    "for brand, brand_data in brands.items():\n",
    "    brand_data['manufacter'] = brand\n",
    "\n",
    "    # Homogenize 'tax' column for Hyundai\n",
    "    if brand == 'hyundi':\n",
    "        brand_data.rename(columns={'tax(£)': 'tax'}, inplace=True)\n",
    "\n",
    "    brands_data.append(brand_data)\n",
    "\n",
    "used_vehicles = pd.concat(brands_data, ignore_index=True)\n",
    "used_vehicles.head()"
   ]
  },
  {
   "cell_type": "code",
   "execution_count": 7,
   "metadata": {},
   "outputs": [
    {
     "data": {
      "text/plain": [
       "(99187, 10)"
      ]
     },
     "execution_count": 7,
     "metadata": {},
     "output_type": "execute_result"
    }
   ],
   "source": [
    "used_vehicles.shape"
   ]
  },
  {
   "cell_type": "code",
   "execution_count": 8,
   "metadata": {},
   "outputs": [
    {
     "name": "stdout",
     "output_type": "stream",
     "text": [
      "<class 'pandas.core.frame.DataFrame'>\n",
      "RangeIndex: 99187 entries, 0 to 99186\n",
      "Data columns (total 10 columns):\n",
      " #   Column        Non-Null Count  Dtype  \n",
      "---  ------        --------------  -----  \n",
      " 0   model         99187 non-null  object \n",
      " 1   year          99187 non-null  int64  \n",
      " 2   price         99187 non-null  int64  \n",
      " 3   transmission  99187 non-null  object \n",
      " 4   mileage       99187 non-null  int64  \n",
      " 5   fuelType      99187 non-null  object \n",
      " 6   tax           99187 non-null  int64  \n",
      " 7   mpg           99187 non-null  float64\n",
      " 8   engineSize    99187 non-null  float64\n",
      " 9   manufacter    99187 non-null  object \n",
      "dtypes: float64(2), int64(4), object(4)\n",
      "memory usage: 7.6+ MB\n"
     ]
    }
   ],
   "source": [
    "# Find N/A values\n",
    "used_vehicles.info(memory_usage=True, show_counts=True)"
   ]
  },
  {
   "cell_type": "code",
   "execution_count": 9,
   "metadata": {},
   "outputs": [],
   "source": [
    "used_vehicles.to_csv(os.path.join(path_data_interim, 'used_vehicles.csv'), index=False)"
   ]
  },
  {
   "cell_type": "markdown",
   "metadata": {},
   "source": [
    "### Clean"
   ]
  },
  {
   "cell_type": "code",
   "execution_count": 8,
   "metadata": {},
   "outputs": [
    {
     "data": {
      "text/html": [
       "<div>\n",
       "<style scoped>\n",
       "    .dataframe tbody tr th:only-of-type {\n",
       "        vertical-align: middle;\n",
       "    }\n",
       "\n",
       "    .dataframe tbody tr th {\n",
       "        vertical-align: top;\n",
       "    }\n",
       "\n",
       "    .dataframe thead th {\n",
       "        text-align: right;\n",
       "    }\n",
       "</style>\n",
       "<table border=\"1\" class=\"dataframe\">\n",
       "  <thead>\n",
       "    <tr style=\"text-align: right;\">\n",
       "      <th></th>\n",
       "      <th>model</th>\n",
       "      <th>year</th>\n",
       "      <th>price</th>\n",
       "      <th>transmission</th>\n",
       "      <th>mileage</th>\n",
       "      <th>fuelType</th>\n",
       "      <th>tax</th>\n",
       "      <th>mpg</th>\n",
       "      <th>engineSize</th>\n",
       "      <th>manufacter</th>\n",
       "    </tr>\n",
       "  </thead>\n",
       "  <tbody>\n",
       "    <tr>\n",
       "      <th>0</th>\n",
       "      <td>A1</td>\n",
       "      <td>2017</td>\n",
       "      <td>12500</td>\n",
       "      <td>Manual</td>\n",
       "      <td>15735</td>\n",
       "      <td>Petrol</td>\n",
       "      <td>150</td>\n",
       "      <td>55.4</td>\n",
       "      <td>1.4</td>\n",
       "      <td>Audi</td>\n",
       "    </tr>\n",
       "    <tr>\n",
       "      <th>1</th>\n",
       "      <td>A6</td>\n",
       "      <td>2016</td>\n",
       "      <td>16500</td>\n",
       "      <td>Automatic</td>\n",
       "      <td>36203</td>\n",
       "      <td>Diesel</td>\n",
       "      <td>20</td>\n",
       "      <td>64.2</td>\n",
       "      <td>2.0</td>\n",
       "      <td>Audi</td>\n",
       "    </tr>\n",
       "    <tr>\n",
       "      <th>2</th>\n",
       "      <td>A1</td>\n",
       "      <td>2016</td>\n",
       "      <td>11000</td>\n",
       "      <td>Manual</td>\n",
       "      <td>29946</td>\n",
       "      <td>Petrol</td>\n",
       "      <td>30</td>\n",
       "      <td>55.4</td>\n",
       "      <td>1.4</td>\n",
       "      <td>Audi</td>\n",
       "    </tr>\n",
       "    <tr>\n",
       "      <th>3</th>\n",
       "      <td>A4</td>\n",
       "      <td>2017</td>\n",
       "      <td>16800</td>\n",
       "      <td>Automatic</td>\n",
       "      <td>25952</td>\n",
       "      <td>Diesel</td>\n",
       "      <td>145</td>\n",
       "      <td>67.3</td>\n",
       "      <td>2.0</td>\n",
       "      <td>Audi</td>\n",
       "    </tr>\n",
       "    <tr>\n",
       "      <th>4</th>\n",
       "      <td>A3</td>\n",
       "      <td>2019</td>\n",
       "      <td>17300</td>\n",
       "      <td>Manual</td>\n",
       "      <td>1998</td>\n",
       "      <td>Petrol</td>\n",
       "      <td>145</td>\n",
       "      <td>49.6</td>\n",
       "      <td>1.0</td>\n",
       "      <td>Audi</td>\n",
       "    </tr>\n",
       "  </tbody>\n",
       "</table>\n",
       "</div>"
      ],
      "text/plain": [
       "  model  year  price transmission  mileage fuelType  tax   mpg  engineSize  \\\n",
       "0    A1  2017  12500       Manual    15735   Petrol  150  55.4         1.4   \n",
       "1    A6  2016  16500    Automatic    36203   Diesel   20  64.2         2.0   \n",
       "2    A1  2016  11000       Manual    29946   Petrol   30  55.4         1.4   \n",
       "3    A4  2017  16800    Automatic    25952   Diesel  145  67.3         2.0   \n",
       "4    A3  2019  17300       Manual     1998   Petrol  145  49.6         1.0   \n",
       "\n",
       "  manufacter  \n",
       "0       Audi  \n",
       "1       Audi  \n",
       "2       Audi  \n",
       "3       Audi  \n",
       "4       Audi  "
      ]
     },
     "execution_count": 8,
     "metadata": {},
     "output_type": "execute_result"
    }
   ],
   "source": [
    "# Correct manufacter value\n",
    "used_vehicles['manufacter'].replace({'audi': 'Audi', 'bmw': 'BMW', 'ford': 'Ford', 'hyundi': 'Hyundai', 'merc': 'Mercedes', \n",
    "                                     'skoda': 'Skoda', 'toyota': 'Toyota', 'vauxhall': 'Vauxhall', 'vw': 'Volkswagen'}, \n",
    "                                     inplace=True)\n",
    "\n",
    "# Strip model of the vehicle\n",
    "used_vehicles['model'] = used_vehicles['model'].str.strip()\n",
    "used_vehicles.head()\n"
   ]
  },
  {
   "cell_type": "code",
   "execution_count": 11,
   "metadata": {},
   "outputs": [
    {
     "data": {
      "text/html": [
       "<div>\n",
       "<style scoped>\n",
       "    .dataframe tbody tr th:only-of-type {\n",
       "        vertical-align: middle;\n",
       "    }\n",
       "\n",
       "    .dataframe tbody tr th {\n",
       "        vertical-align: top;\n",
       "    }\n",
       "\n",
       "    .dataframe thead th {\n",
       "        text-align: right;\n",
       "    }\n",
       "</style>\n",
       "<table border=\"1\" class=\"dataframe\">\n",
       "  <thead>\n",
       "    <tr style=\"text-align: right;\">\n",
       "      <th></th>\n",
       "      <th>model</th>\n",
       "      <th>year</th>\n",
       "      <th>price</th>\n",
       "      <th>transmission</th>\n",
       "      <th>mileage</th>\n",
       "      <th>fuelType</th>\n",
       "      <th>tax</th>\n",
       "      <th>mpg</th>\n",
       "      <th>engineSize</th>\n",
       "      <th>manufacter</th>\n",
       "    </tr>\n",
       "  </thead>\n",
       "  <tbody>\n",
       "    <tr>\n",
       "      <th>38524</th>\n",
       "      <td>Fiesta</td>\n",
       "      <td>2009</td>\n",
       "      <td>5290</td>\n",
       "      <td>Automatic</td>\n",
       "      <td>53000</td>\n",
       "      <td>Petrol</td>\n",
       "      <td>200</td>\n",
       "      <td>43.4</td>\n",
       "      <td>1.4</td>\n",
       "      <td>Ford</td>\n",
       "    </tr>\n",
       "    <tr>\n",
       "      <th>38729</th>\n",
       "      <td>Fiesta</td>\n",
       "      <td>2010</td>\n",
       "      <td>5495</td>\n",
       "      <td>Automatic</td>\n",
       "      <td>59000</td>\n",
       "      <td>Petrol</td>\n",
       "      <td>200</td>\n",
       "      <td>43.4</td>\n",
       "      <td>1.4</td>\n",
       "      <td>Ford</td>\n",
       "    </tr>\n",
       "    <tr>\n",
       "      <th>39175</th>\n",
       "      <td>Fiesta</td>\n",
       "      <td>2060</td>\n",
       "      <td>6495</td>\n",
       "      <td>Automatic</td>\n",
       "      <td>54807</td>\n",
       "      <td>Petrol</td>\n",
       "      <td>205</td>\n",
       "      <td>42.8</td>\n",
       "      <td>1.4</td>\n",
       "      <td>Ford</td>\n",
       "    </tr>\n",
       "    <tr>\n",
       "      <th>39180</th>\n",
       "      <td>Fiesta</td>\n",
       "      <td>2010</td>\n",
       "      <td>5995</td>\n",
       "      <td>Automatic</td>\n",
       "      <td>55000</td>\n",
       "      <td>Petrol</td>\n",
       "      <td>195</td>\n",
       "      <td>42.8</td>\n",
       "      <td>1.4</td>\n",
       "      <td>Ford</td>\n",
       "    </tr>\n",
       "  </tbody>\n",
       "</table>\n",
       "</div>"
      ],
      "text/plain": [
       "        model  year  price transmission  mileage fuelType  tax   mpg  \\\n",
       "38524  Fiesta  2009   5290    Automatic    53000   Petrol  200  43.4   \n",
       "38729  Fiesta  2010   5495    Automatic    59000   Petrol  200  43.4   \n",
       "39175  Fiesta  2060   6495    Automatic    54807   Petrol  205  42.8   \n",
       "39180  Fiesta  2010   5995    Automatic    55000   Petrol  195  42.8   \n",
       "\n",
       "       engineSize manufacter  \n",
       "38524         1.4       Ford  \n",
       "38729         1.4       Ford  \n",
       "39175         1.4       Ford  \n",
       "39180         1.4       Ford  "
      ]
     },
     "execution_count": 11,
     "metadata": {},
     "output_type": "execute_result"
    }
   ],
   "source": [
    "difference_percent = 0.2\n",
    "year_row_pb = used_vehicles.loc[used_vehicles.year == 2060]\n",
    "\n",
    "# Find similar car\n",
    "similar_car_pd = used_vehicles.loc[used_vehicles.model == year_row_pb.model.values[0]]\n",
    "similar_car_pd = similar_car_pd.loc[(similar_car_pd.price >= year_row_pb.price.values[0] * (1 - difference_percent)) &\n",
    "                                    (similar_car_pd.price <= year_row_pb.price.values[0] * (1 + difference_percent))]\n",
    "similar_car_pd = similar_car_pd.loc[similar_car_pd.transmission == year_row_pb.transmission.values[0]]\n",
    "similar_car_pd = similar_car_pd.loc[(similar_car_pd.mileage >= year_row_pb.mileage.values[0] * (1 - difference_percent)) &\n",
    "                                    (similar_car_pd.mileage <= year_row_pb.mileage.values[0] * (1 + difference_percent))]\n",
    "similar_car_pd = similar_car_pd.loc[similar_car_pd.fuelType == year_row_pb.fuelType.values[0]]\n",
    "similar_car_pd = similar_car_pd.loc[(similar_car_pd.tax >= year_row_pb.tax.values[0] * (1 - difference_percent)) &\n",
    "                                    (similar_car_pd.tax <= year_row_pb.tax.values[0] * (1 + difference_percent))]\n",
    "similar_car_pd = similar_car_pd.loc[(similar_car_pd.mpg >= year_row_pb.mpg.values[0] * (1 - difference_percent)) &\n",
    "                                    (similar_car_pd.mpg <= year_row_pb.mpg.values[0] * (1 + difference_percent))]\n",
    "similar_car_pd = similar_car_pd.loc[similar_car_pd.engineSize == year_row_pb.engineSize.values[0]]                    \n",
    "\n",
    "similar_car_pd\n"
   ]
  },
  {
   "cell_type": "code",
   "execution_count": 9,
   "metadata": {},
   "outputs": [
    {
     "data": {
      "text/html": [
       "<div>\n",
       "<style scoped>\n",
       "    .dataframe tbody tr th:only-of-type {\n",
       "        vertical-align: middle;\n",
       "    }\n",
       "\n",
       "    .dataframe tbody tr th {\n",
       "        vertical-align: top;\n",
       "    }\n",
       "\n",
       "    .dataframe thead th {\n",
       "        text-align: right;\n",
       "    }\n",
       "</style>\n",
       "<table border=\"1\" class=\"dataframe\">\n",
       "  <thead>\n",
       "    <tr style=\"text-align: right;\">\n",
       "      <th></th>\n",
       "      <th>model</th>\n",
       "      <th>year</th>\n",
       "      <th>price</th>\n",
       "      <th>transmission</th>\n",
       "      <th>mileage</th>\n",
       "      <th>fuelType</th>\n",
       "      <th>tax</th>\n",
       "      <th>mpg</th>\n",
       "      <th>engineSize</th>\n",
       "      <th>manufacter</th>\n",
       "    </tr>\n",
       "  </thead>\n",
       "  <tbody>\n",
       "    <tr>\n",
       "      <th>0</th>\n",
       "      <td>A1</td>\n",
       "      <td>2017</td>\n",
       "      <td>12500</td>\n",
       "      <td>Manual</td>\n",
       "      <td>15735</td>\n",
       "      <td>Petrol</td>\n",
       "      <td>150</td>\n",
       "      <td>55.4</td>\n",
       "      <td>1.4</td>\n",
       "      <td>Audi</td>\n",
       "    </tr>\n",
       "    <tr>\n",
       "      <th>1</th>\n",
       "      <td>A6</td>\n",
       "      <td>2016</td>\n",
       "      <td>16500</td>\n",
       "      <td>Automatic</td>\n",
       "      <td>36203</td>\n",
       "      <td>Diesel</td>\n",
       "      <td>20</td>\n",
       "      <td>64.2</td>\n",
       "      <td>2.0</td>\n",
       "      <td>Audi</td>\n",
       "    </tr>\n",
       "    <tr>\n",
       "      <th>2</th>\n",
       "      <td>A1</td>\n",
       "      <td>2016</td>\n",
       "      <td>11000</td>\n",
       "      <td>Manual</td>\n",
       "      <td>29946</td>\n",
       "      <td>Petrol</td>\n",
       "      <td>30</td>\n",
       "      <td>55.4</td>\n",
       "      <td>1.4</td>\n",
       "      <td>Audi</td>\n",
       "    </tr>\n",
       "    <tr>\n",
       "      <th>3</th>\n",
       "      <td>A4</td>\n",
       "      <td>2017</td>\n",
       "      <td>16800</td>\n",
       "      <td>Automatic</td>\n",
       "      <td>25952</td>\n",
       "      <td>Diesel</td>\n",
       "      <td>145</td>\n",
       "      <td>67.3</td>\n",
       "      <td>2.0</td>\n",
       "      <td>Audi</td>\n",
       "    </tr>\n",
       "    <tr>\n",
       "      <th>4</th>\n",
       "      <td>A3</td>\n",
       "      <td>2019</td>\n",
       "      <td>17300</td>\n",
       "      <td>Manual</td>\n",
       "      <td>1998</td>\n",
       "      <td>Petrol</td>\n",
       "      <td>145</td>\n",
       "      <td>49.6</td>\n",
       "      <td>1.0</td>\n",
       "      <td>Audi</td>\n",
       "    </tr>\n",
       "  </tbody>\n",
       "</table>\n",
       "</div>"
      ],
      "text/plain": [
       "  model  year  price transmission  mileage fuelType  tax   mpg  engineSize  \\\n",
       "0    A1  2017  12500       Manual    15735   Petrol  150  55.4         1.4   \n",
       "1    A6  2016  16500    Automatic    36203   Diesel   20  64.2         2.0   \n",
       "2    A1  2016  11000       Manual    29946   Petrol   30  55.4         1.4   \n",
       "3    A4  2017  16800    Automatic    25952   Diesel  145  67.3         2.0   \n",
       "4    A3  2019  17300       Manual     1998   Petrol  145  49.6         1.0   \n",
       "\n",
       "  manufacter  \n",
       "0       Audi  \n",
       "1       Audi  \n",
       "2       Audi  \n",
       "3       Audi  \n",
       "4       Audi  "
      ]
     },
     "execution_count": 9,
     "metadata": {},
     "output_type": "execute_result"
    }
   ],
   "source": [
    "# Based on the previous table, the year 2060 is replaced by 2010\n",
    "used_vehicles.loc[used_vehicles.year == 2060, 'year'] = 2010\n",
    "used_vehicles.head()"
   ]
  },
  {
   "cell_type": "markdown",
   "metadata": {},
   "source": [
    "### EDA\n",
    "\n",
    "What is the impact of the manufacter/model to the price ?"
   ]
  },
  {
   "cell_type": "code",
   "execution_count": null,
   "metadata": {},
   "outputs": [],
   "source": [
    "used_vehicles.hist(column='price', by='manufacter', figsize=(25,15))"
   ]
  },
  {
   "cell_type": "markdown",
   "metadata": {},
   "source": [
    "What is the impact of the year of the price ?"
   ]
  },
  {
   "cell_type": "code",
   "execution_count": null,
   "metadata": {},
   "outputs": [],
   "source": [
    "g = sns.FacetGrid(used_vehicles, col='manufacter', col_wrap=3, hue='manufacter')\n",
    "g.fig.suptitle('Used cars price/year by manufacter', fontsize=15, y=1.05)\n",
    "g.set(ylim=(0, used_vehicles.price.max()))\n",
    "g.map(sns.regplot, 'year', 'price')"
   ]
  },
  {
   "cell_type": "markdown",
   "metadata": {},
   "source": [
    "What is the impact of the transmission ?"
   ]
  },
  {
   "cell_type": "code",
   "execution_count": null,
   "metadata": {},
   "outputs": [],
   "source": [
    "g = sns.FacetGrid(used_vehicles, col='manufacter', height=4, col_wrap=3, hue='manufacter')\n",
    "g.fig.suptitle('Used cars price/transmission by manufacter', fontsize=15, y=1.05)\n",
    "g.set(ylim=(0, used_vehicles.price.max()))\n",
    "g.map(sns.barplot, 'transmission', 'price')"
   ]
  },
  {
   "cell_type": "markdown",
   "metadata": {},
   "source": [
    "What is the impact of the mileage on the price ?"
   ]
  },
  {
   "cell_type": "code",
   "execution_count": null,
   "metadata": {},
   "outputs": [],
   "source": [
    "g = sns.FacetGrid(used_vehicles, col='manufacter', col_wrap=3, hue='manufacter')\n",
    "g.fig.suptitle('Used cars price/mileage by manufacter', fontsize=15, y=1.05)\n",
    "g.set(ylim=(0, used_vehicles.price.max()))\n",
    "g.map(sns.regplot, 'mileage', 'price')"
   ]
  },
  {
   "cell_type": "markdown",
   "metadata": {},
   "source": [
    "What is the impact of the fuel on the price ?"
   ]
  },
  {
   "cell_type": "code",
   "execution_count": null,
   "metadata": {},
   "outputs": [],
   "source": [
    "g = sns.FacetGrid(used_vehicles, col='manufacter', height=3.5, col_wrap=3, hue='manufacter')\n",
    "g.fig.suptitle('Used cars price/fuel by manufacter', fontsize=15, y=1.05)\n",
    "g.set(ylim=(0, used_vehicles.price.max()))\n",
    "g.map(sns.barplot, 'fuelType', 'price')"
   ]
  },
  {
   "cell_type": "markdown",
   "metadata": {},
   "source": [
    "### Preprocessing\n",
    "\n",
    "Due to high cardinality of the features 'model' & 'manufacter', the following encoding methods have been tried:\n",
    "* Binary encoder;\n",
    "* LeaveOneOut encoder;\n",
    "* Hashing encoder.\n",
    "\n",
    "The other caterogical features, i.e. 'fuelType' and 'transmission', are encoded using OneHotEncoder as their dimensionality is smaller."
   ]
  },
  {
   "cell_type": "code",
   "execution_count": 10,
   "metadata": {},
   "outputs": [
    {
     "name": "stdout",
     "output_type": "stream",
     "text": [
      "Cardinality model: 195\n",
      "Cardinality manufacter: 9\n"
     ]
    }
   ],
   "source": [
    "print(f\"Cardinality model: {used_vehicles.model.nunique()}\")\n",
    "print(f\"Cardinality manufacter: {used_vehicles.manufacter.nunique()}\")"
   ]
  },
  {
   "cell_type": "code",
   "execution_count": 11,
   "metadata": {},
   "outputs": [
    {
     "data": {
      "text/html": [
       "<div>\n",
       "<style scoped>\n",
       "    .dataframe tbody tr th:only-of-type {\n",
       "        vertical-align: middle;\n",
       "    }\n",
       "\n",
       "    .dataframe tbody tr th {\n",
       "        vertical-align: top;\n",
       "    }\n",
       "\n",
       "    .dataframe thead th {\n",
       "        text-align: right;\n",
       "    }\n",
       "</style>\n",
       "<table border=\"1\" class=\"dataframe\">\n",
       "  <thead>\n",
       "    <tr style=\"text-align: right;\">\n",
       "      <th></th>\n",
       "      <th>model</th>\n",
       "      <th>price</th>\n",
       "      <th>transmission</th>\n",
       "      <th>mileage</th>\n",
       "      <th>fuelType</th>\n",
       "      <th>tax</th>\n",
       "      <th>mpg</th>\n",
       "      <th>engineSize</th>\n",
       "      <th>manufacter</th>\n",
       "      <th>registrationAge</th>\n",
       "    </tr>\n",
       "  </thead>\n",
       "  <tbody>\n",
       "    <tr>\n",
       "      <th>0</th>\n",
       "      <td>A1</td>\n",
       "      <td>12500</td>\n",
       "      <td>Manual</td>\n",
       "      <td>15735</td>\n",
       "      <td>Petrol</td>\n",
       "      <td>150</td>\n",
       "      <td>55.4</td>\n",
       "      <td>1.4</td>\n",
       "      <td>Audi</td>\n",
       "      <td>4</td>\n",
       "    </tr>\n",
       "    <tr>\n",
       "      <th>1</th>\n",
       "      <td>A6</td>\n",
       "      <td>16500</td>\n",
       "      <td>Automatic</td>\n",
       "      <td>36203</td>\n",
       "      <td>Diesel</td>\n",
       "      <td>20</td>\n",
       "      <td>64.2</td>\n",
       "      <td>2.0</td>\n",
       "      <td>Audi</td>\n",
       "      <td>5</td>\n",
       "    </tr>\n",
       "    <tr>\n",
       "      <th>2</th>\n",
       "      <td>A1</td>\n",
       "      <td>11000</td>\n",
       "      <td>Manual</td>\n",
       "      <td>29946</td>\n",
       "      <td>Petrol</td>\n",
       "      <td>30</td>\n",
       "      <td>55.4</td>\n",
       "      <td>1.4</td>\n",
       "      <td>Audi</td>\n",
       "      <td>5</td>\n",
       "    </tr>\n",
       "    <tr>\n",
       "      <th>3</th>\n",
       "      <td>A4</td>\n",
       "      <td>16800</td>\n",
       "      <td>Automatic</td>\n",
       "      <td>25952</td>\n",
       "      <td>Diesel</td>\n",
       "      <td>145</td>\n",
       "      <td>67.3</td>\n",
       "      <td>2.0</td>\n",
       "      <td>Audi</td>\n",
       "      <td>4</td>\n",
       "    </tr>\n",
       "    <tr>\n",
       "      <th>4</th>\n",
       "      <td>A3</td>\n",
       "      <td>17300</td>\n",
       "      <td>Manual</td>\n",
       "      <td>1998</td>\n",
       "      <td>Petrol</td>\n",
       "      <td>145</td>\n",
       "      <td>49.6</td>\n",
       "      <td>1.0</td>\n",
       "      <td>Audi</td>\n",
       "      <td>2</td>\n",
       "    </tr>\n",
       "  </tbody>\n",
       "</table>\n",
       "</div>"
      ],
      "text/plain": [
       "  model  price transmission  mileage fuelType  tax   mpg  engineSize  \\\n",
       "0    A1  12500       Manual    15735   Petrol  150  55.4         1.4   \n",
       "1    A6  16500    Automatic    36203   Diesel   20  64.2         2.0   \n",
       "2    A1  11000       Manual    29946   Petrol   30  55.4         1.4   \n",
       "3    A4  16800    Automatic    25952   Diesel  145  67.3         2.0   \n",
       "4    A3  17300       Manual     1998   Petrol  145  49.6         1.0   \n",
       "\n",
       "  manufacter  registrationAge  \n",
       "0       Audi                4  \n",
       "1       Audi                5  \n",
       "2       Audi                5  \n",
       "3       Audi                4  \n",
       "4       Audi                2  "
      ]
     },
     "execution_count": 11,
     "metadata": {},
     "output_type": "execute_result"
    }
   ],
   "source": [
    "# Transform year column to registration age\n",
    "used_vehicles['registrationAge'] = 2021 - used_vehicles['year']\n",
    "used_vehicles.drop(columns=['year'], inplace=True)\n",
    "used_vehicles.head()"
   ]
  },
  {
   "cell_type": "code",
   "execution_count": 12,
   "metadata": {},
   "outputs": [],
   "source": [
    "# Define column transformers\n",
    "# Columns model, year, price, transmission, mileage, fuelType, tax, mpg, engineSize, manufacter\n",
    "numeric_features = ['mileage', 'tax', 'mpg', 'engineSize', 'registrationAge']\n",
    "numeric_transformer = Pipeline(steps=[('scaler', StandardScaler())])\n",
    "\n",
    "categorical_features_ohe = ['transmission', 'fuelType']\n",
    "categorical_transformer_ohe = OneHotEncoder(handle_unknown='error')\n",
    "\n",
    "categorical_features_others = ['manufacter', 'model']\n",
    "categorical_transformer_bin = ce.BinaryEncoder()\n",
    "categorical_transformer_loo = ce.LeaveOneOutEncoder()\n",
    "\n",
    "# Preprocessor with BinEncoder\n",
    "preprocessor_bin = ColumnTransformer(transformers=[\n",
    "    ('numerical', numeric_transformer, numeric_features),\n",
    "    ('categorical_low', categorical_transformer_ohe, categorical_features_ohe),\n",
    "    ('categorical_high', categorical_transformer_bin, categorical_features_others)\n",
    "])\n",
    "\n",
    "# Preprocessor with LeaveOneOutEncoder\n",
    "preprocessor_loo = ColumnTransformer(transformers=[\n",
    "    ('numerical', numeric_transformer, numeric_features),\n",
    "    ('categorical_low', categorical_transformer_ohe, categorical_features_ohe),\n",
    "    ('categorical_high', categorical_transformer_loo, categorical_features_others)\n",
    "])\n",
    "\n",
    "# Preprocessor with HashingEncoder\n",
    "preprocessor_hash = ColumnTransformer(transformers=[\n",
    "    ('numerical', numeric_transformer, numeric_features),\n",
    "    ('categorical_low', categorical_transformer_ohe, categorical_features_ohe),\n",
    "    ('categorical_model', ce.HashingEncoder(n_components=3), 'model'),\n",
    "    ('categorical_manufacter', ce.HashingEncoder(n_components=8), 'manufacter')\n",
    "])"
   ]
  },
  {
   "cell_type": "code",
   "execution_count": 13,
   "metadata": {},
   "outputs": [],
   "source": [
    "X = used_vehicles.loc[:, used_vehicles.columns != 'price']\n",
    "y = used_vehicles['price']"
   ]
  },
  {
   "cell_type": "code",
   "execution_count": 14,
   "metadata": {},
   "outputs": [
    {
     "data": {
      "text/plain": [
       "(99187, 9)"
      ]
     },
     "execution_count": 14,
     "metadata": {},
     "output_type": "execute_result"
    }
   ],
   "source": [
    "X.shape"
   ]
  },
  {
   "cell_type": "code",
   "execution_count": 15,
   "metadata": {},
   "outputs": [
    {
     "data": {
      "text/plain": [
       "(99187,)"
      ]
     },
     "execution_count": 15,
     "metadata": {},
     "output_type": "execute_result"
    }
   ],
   "source": [
    "y.shape"
   ]
  },
  {
   "cell_type": "markdown",
   "metadata": {},
   "source": [
    "### Modeling\n",
    "\n",
    "As the goal of the exercise is to deploy a model, the RandomForestRegressor is going to be used for the sake of simplicity."
   ]
  },
  {
   "cell_type": "code",
   "execution_count": 16,
   "metadata": {},
   "outputs": [
    {
     "name": "stdout",
     "output_type": "stream",
     "text": [
      "(79349, 9) (79349, 1)\n",
      "(19838, 9) (19838, 1)\n"
     ]
    }
   ],
   "source": [
    "# Scale target\n",
    "y = y.values.reshape(-1, 1)\n",
    "price_scaler = StandardScaler().fit(y)\n",
    "price_scaled = price_scaler.transform(y)\n",
    "\n",
    "# Split dataset\n",
    "X_train, X_test, y_train, y_test = train_test_split(X, price_scaled, test_size=0.2, random_state=0, shuffle=True)\n",
    "print(X_train.shape, y_train.shape)\n",
    "print(X_test.shape, y_test.shape)"
   ]
  },
  {
   "cell_type": "markdown",
   "metadata": {},
   "source": [
    "#### Model with BinEcoder"
   ]
  },
  {
   "cell_type": "code",
   "execution_count": 18,
   "metadata": {},
   "outputs": [
    {
     "data": {
      "text/html": [
       "<style>#sk-40512e14-cf3b-4403-b20e-46d12b109d8b {color: black;background-color: white;}#sk-40512e14-cf3b-4403-b20e-46d12b109d8b pre{padding: 0;}#sk-40512e14-cf3b-4403-b20e-46d12b109d8b div.sk-toggleable {background-color: white;}#sk-40512e14-cf3b-4403-b20e-46d12b109d8b label.sk-toggleable__label {cursor: pointer;display: block;width: 100%;margin-bottom: 0;padding: 0.3em;box-sizing: border-box;text-align: center;}#sk-40512e14-cf3b-4403-b20e-46d12b109d8b div.sk-toggleable__content {max-height: 0;max-width: 0;overflow: hidden;text-align: left;background-color: #f0f8ff;}#sk-40512e14-cf3b-4403-b20e-46d12b109d8b div.sk-toggleable__content pre {margin: 0.2em;color: black;border-radius: 0.25em;background-color: #f0f8ff;}#sk-40512e14-cf3b-4403-b20e-46d12b109d8b input.sk-toggleable__control:checked~div.sk-toggleable__content {max-height: 200px;max-width: 100%;overflow: auto;}#sk-40512e14-cf3b-4403-b20e-46d12b109d8b div.sk-estimator input.sk-toggleable__control:checked~label.sk-toggleable__label {background-color: #d4ebff;}#sk-40512e14-cf3b-4403-b20e-46d12b109d8b div.sk-label input.sk-toggleable__control:checked~label.sk-toggleable__label {background-color: #d4ebff;}#sk-40512e14-cf3b-4403-b20e-46d12b109d8b input.sk-hidden--visually {border: 0;clip: rect(1px 1px 1px 1px);clip: rect(1px, 1px, 1px, 1px);height: 1px;margin: -1px;overflow: hidden;padding: 0;position: absolute;width: 1px;}#sk-40512e14-cf3b-4403-b20e-46d12b109d8b div.sk-estimator {font-family: monospace;background-color: #f0f8ff;border: 1px dotted black;border-radius: 0.25em;box-sizing: border-box;margin-bottom: 0.5em;}#sk-40512e14-cf3b-4403-b20e-46d12b109d8b div.sk-estimator:hover {background-color: #d4ebff;}#sk-40512e14-cf3b-4403-b20e-46d12b109d8b div.sk-parallel-item::after {content: \"\";width: 100%;border-bottom: 1px solid gray;flex-grow: 1;}#sk-40512e14-cf3b-4403-b20e-46d12b109d8b div.sk-label:hover label.sk-toggleable__label {background-color: #d4ebff;}#sk-40512e14-cf3b-4403-b20e-46d12b109d8b div.sk-serial::before {content: \"\";position: absolute;border-left: 1px solid gray;box-sizing: border-box;top: 2em;bottom: 0;left: 50%;}#sk-40512e14-cf3b-4403-b20e-46d12b109d8b div.sk-serial {display: flex;flex-direction: column;align-items: center;background-color: white;padding-right: 0.2em;padding-left: 0.2em;}#sk-40512e14-cf3b-4403-b20e-46d12b109d8b div.sk-item {z-index: 1;}#sk-40512e14-cf3b-4403-b20e-46d12b109d8b div.sk-parallel {display: flex;align-items: stretch;justify-content: center;background-color: white;}#sk-40512e14-cf3b-4403-b20e-46d12b109d8b div.sk-parallel::before {content: \"\";position: absolute;border-left: 1px solid gray;box-sizing: border-box;top: 2em;bottom: 0;left: 50%;}#sk-40512e14-cf3b-4403-b20e-46d12b109d8b div.sk-parallel-item {display: flex;flex-direction: column;position: relative;background-color: white;}#sk-40512e14-cf3b-4403-b20e-46d12b109d8b div.sk-parallel-item:first-child::after {align-self: flex-end;width: 50%;}#sk-40512e14-cf3b-4403-b20e-46d12b109d8b div.sk-parallel-item:last-child::after {align-self: flex-start;width: 50%;}#sk-40512e14-cf3b-4403-b20e-46d12b109d8b div.sk-parallel-item:only-child::after {width: 0;}#sk-40512e14-cf3b-4403-b20e-46d12b109d8b div.sk-dashed-wrapped {border: 1px dashed gray;margin: 0 0.4em 0.5em 0.4em;box-sizing: border-box;padding-bottom: 0.4em;background-color: white;position: relative;}#sk-40512e14-cf3b-4403-b20e-46d12b109d8b div.sk-label label {font-family: monospace;font-weight: bold;background-color: white;display: inline-block;line-height: 1.2em;}#sk-40512e14-cf3b-4403-b20e-46d12b109d8b div.sk-label-container {position: relative;z-index: 2;text-align: center;}#sk-40512e14-cf3b-4403-b20e-46d12b109d8b div.sk-container {display: inline-block;position: relative;}</style><div id=\"sk-40512e14-cf3b-4403-b20e-46d12b109d8b\" class\"sk-top-container\"><div class=\"sk-container\"><div class=\"sk-item sk-dashed-wrapped\"><div class=\"sk-label-container\"><div class=\"sk-label sk-toggleable\"><input class=\"sk-toggleable__control sk-hidden--visually\" id=\"bc6b6051-b401-4687-b971-eb714f1f5794\" type=\"checkbox\" ><label class=\"sk-toggleable__label\" for=\"bc6b6051-b401-4687-b971-eb714f1f5794\">Pipeline</label><div class=\"sk-toggleable__content\"><pre>Pipeline(steps=[('preprocessor',\n",
       "                 ColumnTransformer(transformers=[('numerical',\n",
       "                                                  Pipeline(steps=[('scaler',\n",
       "                                                                   StandardScaler())]),\n",
       "                                                  ['mileage', 'tax', 'mpg',\n",
       "                                                   'engineSize',\n",
       "                                                   'registrationAge']),\n",
       "                                                 ('categorical_low',\n",
       "                                                  OneHotEncoder(),\n",
       "                                                  ['transmission', 'fuelType']),\n",
       "                                                 ('categorical_high',\n",
       "                                                  BinaryEncoder(),\n",
       "                                                  ['manufacter', 'model'])])),\n",
       "                ('regressor', Ridge())])</pre></div></div></div><div class=\"sk-serial\"><div class=\"sk-item sk-dashed-wrapped\"><div class=\"sk-label-container\"><div class=\"sk-label sk-toggleable\"><input class=\"sk-toggleable__control sk-hidden--visually\" id=\"227ae110-9d51-4360-bd00-30c16f582b0d\" type=\"checkbox\" ><label class=\"sk-toggleable__label\" for=\"227ae110-9d51-4360-bd00-30c16f582b0d\">preprocessor: ColumnTransformer</label><div class=\"sk-toggleable__content\"><pre>ColumnTransformer(transformers=[('numerical',\n",
       "                                 Pipeline(steps=[('scaler', StandardScaler())]),\n",
       "                                 ['mileage', 'tax', 'mpg', 'engineSize',\n",
       "                                  'registrationAge']),\n",
       "                                ('categorical_low', OneHotEncoder(),\n",
       "                                 ['transmission', 'fuelType']),\n",
       "                                ('categorical_high', BinaryEncoder(),\n",
       "                                 ['manufacter', 'model'])])</pre></div></div></div><div class=\"sk-parallel\"><div class=\"sk-parallel-item\"><div class=\"sk-item\"><div class=\"sk-label-container\"><div class=\"sk-label sk-toggleable\"><input class=\"sk-toggleable__control sk-hidden--visually\" id=\"642ba5cb-fc69-42b5-a7cb-1bd895cdec4b\" type=\"checkbox\" ><label class=\"sk-toggleable__label\" for=\"642ba5cb-fc69-42b5-a7cb-1bd895cdec4b\">numerical</label><div class=\"sk-toggleable__content\"><pre>['mileage', 'tax', 'mpg', 'engineSize', 'registrationAge']</pre></div></div></div><div class=\"sk-serial\"><div class=\"sk-item\"><div class=\"sk-serial\"><div class=\"sk-item\"><div class=\"sk-estimator sk-toggleable\"><input class=\"sk-toggleable__control sk-hidden--visually\" id=\"7567f9d9-719f-418e-ab34-fa6d5ccb5a57\" type=\"checkbox\" ><label class=\"sk-toggleable__label\" for=\"7567f9d9-719f-418e-ab34-fa6d5ccb5a57\">StandardScaler</label><div class=\"sk-toggleable__content\"><pre>StandardScaler()</pre></div></div></div></div></div></div></div></div><div class=\"sk-parallel-item\"><div class=\"sk-item\"><div class=\"sk-label-container\"><div class=\"sk-label sk-toggleable\"><input class=\"sk-toggleable__control sk-hidden--visually\" id=\"83e5be83-4a8f-43f0-92d2-2d3f9f482062\" type=\"checkbox\" ><label class=\"sk-toggleable__label\" for=\"83e5be83-4a8f-43f0-92d2-2d3f9f482062\">categorical_low</label><div class=\"sk-toggleable__content\"><pre>['transmission', 'fuelType']</pre></div></div></div><div class=\"sk-serial\"><div class=\"sk-item\"><div class=\"sk-estimator sk-toggleable\"><input class=\"sk-toggleable__control sk-hidden--visually\" id=\"335ff78f-82d7-4ae7-b046-a9ce50fade7c\" type=\"checkbox\" ><label class=\"sk-toggleable__label\" for=\"335ff78f-82d7-4ae7-b046-a9ce50fade7c\">OneHotEncoder</label><div class=\"sk-toggleable__content\"><pre>OneHotEncoder()</pre></div></div></div></div></div></div><div class=\"sk-parallel-item\"><div class=\"sk-item\"><div class=\"sk-label-container\"><div class=\"sk-label sk-toggleable\"><input class=\"sk-toggleable__control sk-hidden--visually\" id=\"719de265-d925-4cb1-8b76-eb9bf32dcd21\" type=\"checkbox\" ><label class=\"sk-toggleable__label\" for=\"719de265-d925-4cb1-8b76-eb9bf32dcd21\">categorical_high</label><div class=\"sk-toggleable__content\"><pre>['manufacter', 'model']</pre></div></div></div><div class=\"sk-serial\"><div class=\"sk-item\"><div class=\"sk-estimator sk-toggleable\"><input class=\"sk-toggleable__control sk-hidden--visually\" id=\"4bac8f0e-24e5-4cc2-be9d-d8c628514d53\" type=\"checkbox\" ><label class=\"sk-toggleable__label\" for=\"4bac8f0e-24e5-4cc2-be9d-d8c628514d53\">BinaryEncoder</label><div class=\"sk-toggleable__content\"><pre>BinaryEncoder()</pre></div></div></div></div></div></div></div></div><div class=\"sk-item\"><div class=\"sk-estimator sk-toggleable\"><input class=\"sk-toggleable__control sk-hidden--visually\" id=\"dee67212-82bd-4f34-ac7e-dcb70c704e74\" type=\"checkbox\" ><label class=\"sk-toggleable__label\" for=\"dee67212-82bd-4f34-ac7e-dcb70c704e74\">Ridge</label><div class=\"sk-toggleable__content\"><pre>Ridge()</pre></div></div></div></div></div></div></div>"
      ],
      "text/plain": [
       "Pipeline(steps=[('preprocessor',\n",
       "                 ColumnTransformer(transformers=[('numerical',\n",
       "                                                  Pipeline(steps=[('scaler',\n",
       "                                                                   StandardScaler())]),\n",
       "                                                  ['mileage', 'tax', 'mpg',\n",
       "                                                   'engineSize',\n",
       "                                                   'registrationAge']),\n",
       "                                                 ('categorical_low',\n",
       "                                                  OneHotEncoder(),\n",
       "                                                  ['transmission', 'fuelType']),\n",
       "                                                 ('categorical_high',\n",
       "                                                  BinaryEncoder(),\n",
       "                                                  ['manufacter', 'model'])])),\n",
       "                ('regressor', Ridge())])"
      ]
     },
     "execution_count": 18,
     "metadata": {},
     "output_type": "execute_result"
    }
   ],
   "source": [
    "# Define full pipeline\n",
    "regr = Pipeline(steps=[\n",
    "    ('preprocessor', preprocessor_bin),\n",
    "    ('regressor', Ridge())\n",
    "])\n",
    "\n",
    "\n",
    "regr"
   ]
  },
  {
   "cell_type": "code",
   "execution_count": 20,
   "metadata": {},
   "outputs": [
    {
     "name": "stdout",
     "output_type": "stream",
     "text": [
      "MSE (training): 0.24100616193328708\n",
      "MSE (test): 0.2355868329538675\n"
     ]
    }
   ],
   "source": [
    "# Fit the model\n",
    "regr.fit(X_train, y_train)\n",
    "\n",
    "# Show RMSE\n",
    "pred_train = regr.predict(X_train)\n",
    "print(f\"MSE (training): {mean_squared_error(y_train, pred_train, squared=True)}\")\n",
    "\n",
    "pred_test = regr.predict(X_test)\n",
    "print(f\"MSE (test): {mean_squared_error(y_test, pred_test, squared=True)}\")"
   ]
  },
  {
   "cell_type": "code",
   "execution_count": null,
   "metadata": {},
   "outputs": [],
   "source": [
    "# Optimize model\n",
    "param_grid = {\n",
    "    'regressor__n_estimators': np.arange(50, 200, 25),\n",
    "    'regressor__max_depth': np.arange(2, 20)\n",
    "}\n",
    "\n",
    "grid_search = GridSearchCV(regr, param_grid, cv=10, n_jobs=2)\n",
    "grid_search"
   ]
  },
  {
   "cell_type": "code",
   "execution_count": null,
   "metadata": {},
   "outputs": [],
   "source": [
    "grid_search.fit(X_train, y_train)\n",
    "\n",
    "print(\"Best params:\")\n",
    "print(grid_search.best_params_)"
   ]
  },
  {
   "cell_type": "code",
   "execution_count": null,
   "metadata": {},
   "outputs": [],
   "source": [
    "# Define full pipeline\n",
    "regr = Pipeline(steps=[\n",
    "    ('preprocessor', preprocessor_bin),\n",
    "    ('regressor', RandomForestRegressor(verbose=1))\n",
    "])\n",
    "\n",
    "# Fit the model\n",
    "regr.fit(X_train, y_train)\n",
    "\n",
    "# Show RMSE\n",
    "pred_train = regr.predict(X_train)\n",
    "print(f\"RMSE (training): {mean_squared_error(y_train, pred_train, squared=False)}\")\n",
    "\n",
    "pred_test = regr.predict(X_test)\n",
    "print(f\"RMSE (test): {mean_squared_error(y_test, pred_test, squared=False)}\")"
   ]
  },
  {
   "cell_type": "markdown",
   "metadata": {},
   "source": [
    "#### Model with LeaveOneOutEncoder"
   ]
  },
  {
   "cell_type": "code",
   "execution_count": 27,
   "metadata": {},
   "outputs": [
    {
     "data": {
      "text/html": [
       "<style>#sk-1d151125-dd9c-48b6-8744-4ac974d43715 {color: black;background-color: white;}#sk-1d151125-dd9c-48b6-8744-4ac974d43715 pre{padding: 0;}#sk-1d151125-dd9c-48b6-8744-4ac974d43715 div.sk-toggleable {background-color: white;}#sk-1d151125-dd9c-48b6-8744-4ac974d43715 label.sk-toggleable__label {cursor: pointer;display: block;width: 100%;margin-bottom: 0;padding: 0.3em;box-sizing: border-box;text-align: center;}#sk-1d151125-dd9c-48b6-8744-4ac974d43715 div.sk-toggleable__content {max-height: 0;max-width: 0;overflow: hidden;text-align: left;background-color: #f0f8ff;}#sk-1d151125-dd9c-48b6-8744-4ac974d43715 div.sk-toggleable__content pre {margin: 0.2em;color: black;border-radius: 0.25em;background-color: #f0f8ff;}#sk-1d151125-dd9c-48b6-8744-4ac974d43715 input.sk-toggleable__control:checked~div.sk-toggleable__content {max-height: 200px;max-width: 100%;overflow: auto;}#sk-1d151125-dd9c-48b6-8744-4ac974d43715 div.sk-estimator input.sk-toggleable__control:checked~label.sk-toggleable__label {background-color: #d4ebff;}#sk-1d151125-dd9c-48b6-8744-4ac974d43715 div.sk-label input.sk-toggleable__control:checked~label.sk-toggleable__label {background-color: #d4ebff;}#sk-1d151125-dd9c-48b6-8744-4ac974d43715 input.sk-hidden--visually {border: 0;clip: rect(1px 1px 1px 1px);clip: rect(1px, 1px, 1px, 1px);height: 1px;margin: -1px;overflow: hidden;padding: 0;position: absolute;width: 1px;}#sk-1d151125-dd9c-48b6-8744-4ac974d43715 div.sk-estimator {font-family: monospace;background-color: #f0f8ff;border: 1px dotted black;border-radius: 0.25em;box-sizing: border-box;margin-bottom: 0.5em;}#sk-1d151125-dd9c-48b6-8744-4ac974d43715 div.sk-estimator:hover {background-color: #d4ebff;}#sk-1d151125-dd9c-48b6-8744-4ac974d43715 div.sk-parallel-item::after {content: \"\";width: 100%;border-bottom: 1px solid gray;flex-grow: 1;}#sk-1d151125-dd9c-48b6-8744-4ac974d43715 div.sk-label:hover label.sk-toggleable__label {background-color: #d4ebff;}#sk-1d151125-dd9c-48b6-8744-4ac974d43715 div.sk-serial::before {content: \"\";position: absolute;border-left: 1px solid gray;box-sizing: border-box;top: 2em;bottom: 0;left: 50%;}#sk-1d151125-dd9c-48b6-8744-4ac974d43715 div.sk-serial {display: flex;flex-direction: column;align-items: center;background-color: white;padding-right: 0.2em;padding-left: 0.2em;}#sk-1d151125-dd9c-48b6-8744-4ac974d43715 div.sk-item {z-index: 1;}#sk-1d151125-dd9c-48b6-8744-4ac974d43715 div.sk-parallel {display: flex;align-items: stretch;justify-content: center;background-color: white;}#sk-1d151125-dd9c-48b6-8744-4ac974d43715 div.sk-parallel::before {content: \"\";position: absolute;border-left: 1px solid gray;box-sizing: border-box;top: 2em;bottom: 0;left: 50%;}#sk-1d151125-dd9c-48b6-8744-4ac974d43715 div.sk-parallel-item {display: flex;flex-direction: column;position: relative;background-color: white;}#sk-1d151125-dd9c-48b6-8744-4ac974d43715 div.sk-parallel-item:first-child::after {align-self: flex-end;width: 50%;}#sk-1d151125-dd9c-48b6-8744-4ac974d43715 div.sk-parallel-item:last-child::after {align-self: flex-start;width: 50%;}#sk-1d151125-dd9c-48b6-8744-4ac974d43715 div.sk-parallel-item:only-child::after {width: 0;}#sk-1d151125-dd9c-48b6-8744-4ac974d43715 div.sk-dashed-wrapped {border: 1px dashed gray;margin: 0 0.4em 0.5em 0.4em;box-sizing: border-box;padding-bottom: 0.4em;background-color: white;position: relative;}#sk-1d151125-dd9c-48b6-8744-4ac974d43715 div.sk-label label {font-family: monospace;font-weight: bold;background-color: white;display: inline-block;line-height: 1.2em;}#sk-1d151125-dd9c-48b6-8744-4ac974d43715 div.sk-label-container {position: relative;z-index: 2;text-align: center;}#sk-1d151125-dd9c-48b6-8744-4ac974d43715 div.sk-container {display: inline-block;position: relative;}</style><div id=\"sk-1d151125-dd9c-48b6-8744-4ac974d43715\" class\"sk-top-container\"><div class=\"sk-container\"><div class=\"sk-item sk-dashed-wrapped\"><div class=\"sk-label-container\"><div class=\"sk-label sk-toggleable\"><input class=\"sk-toggleable__control sk-hidden--visually\" id=\"47a1d7f0-4c7c-4ac3-81e8-2266cb0dcee5\" type=\"checkbox\" ><label class=\"sk-toggleable__label\" for=\"47a1d7f0-4c7c-4ac3-81e8-2266cb0dcee5\">Pipeline</label><div class=\"sk-toggleable__content\"><pre>Pipeline(steps=[('preprocessor',\n",
       "                 ColumnTransformer(transformers=[('numerical',\n",
       "                                                  Pipeline(steps=[('scaler',\n",
       "                                                                   StandardScaler())]),\n",
       "                                                  ['mileage', 'tax', 'mpg',\n",
       "                                                   'engineSize',\n",
       "                                                   'registrationAge']),\n",
       "                                                 ('categorical_low',\n",
       "                                                  OneHotEncoder(),\n",
       "                                                  ['transmission', 'fuelType']),\n",
       "                                                 ('categorical_high',\n",
       "                                                  LeaveOneOutEncoder(),\n",
       "                                                  ['manufacter', 'model'])])),\n",
       "                ('regressor', Ridge())])</pre></div></div></div><div class=\"sk-serial\"><div class=\"sk-item sk-dashed-wrapped\"><div class=\"sk-label-container\"><div class=\"sk-label sk-toggleable\"><input class=\"sk-toggleable__control sk-hidden--visually\" id=\"1616e6ca-44d4-475f-917f-efd8e8e0ddf4\" type=\"checkbox\" ><label class=\"sk-toggleable__label\" for=\"1616e6ca-44d4-475f-917f-efd8e8e0ddf4\">preprocessor: ColumnTransformer</label><div class=\"sk-toggleable__content\"><pre>ColumnTransformer(transformers=[('numerical',\n",
       "                                 Pipeline(steps=[('scaler', StandardScaler())]),\n",
       "                                 ['mileage', 'tax', 'mpg', 'engineSize',\n",
       "                                  'registrationAge']),\n",
       "                                ('categorical_low', OneHotEncoder(),\n",
       "                                 ['transmission', 'fuelType']),\n",
       "                                ('categorical_high', LeaveOneOutEncoder(),\n",
       "                                 ['manufacter', 'model'])])</pre></div></div></div><div class=\"sk-parallel\"><div class=\"sk-parallel-item\"><div class=\"sk-item\"><div class=\"sk-label-container\"><div class=\"sk-label sk-toggleable\"><input class=\"sk-toggleable__control sk-hidden--visually\" id=\"528b79c2-a9ea-40d6-8ff0-9eb612c21a1c\" type=\"checkbox\" ><label class=\"sk-toggleable__label\" for=\"528b79c2-a9ea-40d6-8ff0-9eb612c21a1c\">numerical</label><div class=\"sk-toggleable__content\"><pre>['mileage', 'tax', 'mpg', 'engineSize', 'registrationAge']</pre></div></div></div><div class=\"sk-serial\"><div class=\"sk-item\"><div class=\"sk-serial\"><div class=\"sk-item\"><div class=\"sk-estimator sk-toggleable\"><input class=\"sk-toggleable__control sk-hidden--visually\" id=\"bd1b01d6-8ad0-4a46-be18-5beb99c50f2e\" type=\"checkbox\" ><label class=\"sk-toggleable__label\" for=\"bd1b01d6-8ad0-4a46-be18-5beb99c50f2e\">StandardScaler</label><div class=\"sk-toggleable__content\"><pre>StandardScaler()</pre></div></div></div></div></div></div></div></div><div class=\"sk-parallel-item\"><div class=\"sk-item\"><div class=\"sk-label-container\"><div class=\"sk-label sk-toggleable\"><input class=\"sk-toggleable__control sk-hidden--visually\" id=\"ea78b946-e25a-4e7d-b7c0-c399a5d813bc\" type=\"checkbox\" ><label class=\"sk-toggleable__label\" for=\"ea78b946-e25a-4e7d-b7c0-c399a5d813bc\">categorical_low</label><div class=\"sk-toggleable__content\"><pre>['transmission', 'fuelType']</pre></div></div></div><div class=\"sk-serial\"><div class=\"sk-item\"><div class=\"sk-estimator sk-toggleable\"><input class=\"sk-toggleable__control sk-hidden--visually\" id=\"e22e6f8e-b65d-43ae-8222-0f6b241c4125\" type=\"checkbox\" ><label class=\"sk-toggleable__label\" for=\"e22e6f8e-b65d-43ae-8222-0f6b241c4125\">OneHotEncoder</label><div class=\"sk-toggleable__content\"><pre>OneHotEncoder()</pre></div></div></div></div></div></div><div class=\"sk-parallel-item\"><div class=\"sk-item\"><div class=\"sk-label-container\"><div class=\"sk-label sk-toggleable\"><input class=\"sk-toggleable__control sk-hidden--visually\" id=\"5b35b79d-cc6f-4ba5-8dfe-14eb1f2eb0c8\" type=\"checkbox\" ><label class=\"sk-toggleable__label\" for=\"5b35b79d-cc6f-4ba5-8dfe-14eb1f2eb0c8\">categorical_high</label><div class=\"sk-toggleable__content\"><pre>['manufacter', 'model']</pre></div></div></div><div class=\"sk-serial\"><div class=\"sk-item\"><div class=\"sk-estimator sk-toggleable\"><input class=\"sk-toggleable__control sk-hidden--visually\" id=\"390667d3-0c96-43bd-81cd-a4f4d97eb9ff\" type=\"checkbox\" ><label class=\"sk-toggleable__label\" for=\"390667d3-0c96-43bd-81cd-a4f4d97eb9ff\">LeaveOneOutEncoder</label><div class=\"sk-toggleable__content\"><pre>LeaveOneOutEncoder()</pre></div></div></div></div></div></div></div></div><div class=\"sk-item\"><div class=\"sk-estimator sk-toggleable\"><input class=\"sk-toggleable__control sk-hidden--visually\" id=\"8ea5da06-0b7d-4108-881b-3b182639e881\" type=\"checkbox\" ><label class=\"sk-toggleable__label\" for=\"8ea5da06-0b7d-4108-881b-3b182639e881\">Ridge</label><div class=\"sk-toggleable__content\"><pre>Ridge()</pre></div></div></div></div></div></div></div>"
      ],
      "text/plain": [
       "Pipeline(steps=[('preprocessor',\n",
       "                 ColumnTransformer(transformers=[('numerical',\n",
       "                                                  Pipeline(steps=[('scaler',\n",
       "                                                                   StandardScaler())]),\n",
       "                                                  ['mileage', 'tax', 'mpg',\n",
       "                                                   'engineSize',\n",
       "                                                   'registrationAge']),\n",
       "                                                 ('categorical_low',\n",
       "                                                  OneHotEncoder(),\n",
       "                                                  ['transmission', 'fuelType']),\n",
       "                                                 ('categorical_high',\n",
       "                                                  LeaveOneOutEncoder(),\n",
       "                                                  ['manufacter', 'model'])])),\n",
       "                ('regressor', Ridge())])"
      ]
     },
     "execution_count": 27,
     "metadata": {},
     "output_type": "execute_result"
    }
   ],
   "source": [
    "# Define full pipeline\n",
    "regr = Pipeline(steps=[\n",
    "    ('preprocessor', preprocessor_loo),\n",
    "    ('regressor', Ridge())\n",
    "])\n",
    "\n",
    "regr"
   ]
  },
  {
   "cell_type": "code",
   "execution_count": 28,
   "metadata": {},
   "outputs": [
    {
     "name": "stdout",
     "output_type": "stream",
     "text": [
      "MSE (training): 0.16089076557964324\n",
      "MSE (test): 0.15841752242783858\n"
     ]
    }
   ],
   "source": [
    "# Fit the model\n",
    "regr.fit(X_train, y_train)\n",
    "\n",
    "# Show RMSE\n",
    "pred_train = regr.predict(X_train)\n",
    "print(f\"MSE (training): {mean_squared_error(y_train, pred_train, squared=True)}\")\n",
    "\n",
    "pred_test = regr.predict(X_test)\n",
    "print(f\"MSE (test): {mean_squared_error(y_test, pred_test, squared=True)}\")"
   ]
  },
  {
   "cell_type": "code",
   "execution_count": null,
   "metadata": {},
   "outputs": [],
   "source": [
    "# Optimize model\n",
    "param_grid = {\n",
    "    'regressor__n_estimators': np.arange(50, 200, 25),\n",
    "    'regressor__max_depth': np.arange(2, 20)\n",
    "}\n",
    "\n",
    "grid_search = GridSearchCV(regr, param_grid, cv=10, n_jobs=2)\n",
    "grid_search"
   ]
  },
  {
   "cell_type": "code",
   "execution_count": null,
   "metadata": {},
   "outputs": [],
   "source": [
    "grid_search.fit(X_train, y_train)\n",
    "\n",
    "print(\"Best params:\")\n",
    "print(grid_search.best_params_)"
   ]
  },
  {
   "cell_type": "code",
   "execution_count": null,
   "metadata": {},
   "outputs": [],
   "source": [
    "# Define full pipeline\n",
    "regr = Pipeline(steps=[\n",
    "    ('preprocessor', preprocessor_bin),\n",
    "    ('regressor', Ridge())\n",
    "])\n",
    "\n",
    "# Fit the model\n",
    "regr.fit(X_train, y_train)\n",
    "\n",
    "# Show RMSE\n",
    "pred_train = regr.predict(X_train)\n",
    "print(f\"RMSE (training): {mean_squared_error(y_train, pred_train, squared=False)}\")\n",
    "\n",
    "pred_test = regr.predict(X_test)\n",
    "print(f\"RMSE (test): {mean_squared_error(y_test, pred_test, squared=False)}\")"
   ]
  },
  {
   "cell_type": "markdown",
   "metadata": {},
   "source": [
    "#### Model with HashingEncoder"
   ]
  },
  {
   "cell_type": "code",
   "execution_count": 23,
   "metadata": {},
   "outputs": [
    {
     "data": {
      "text/html": [
       "<style>#sk-7da441f1-fcc3-45bd-ae9f-5b4576121801 {color: black;background-color: white;}#sk-7da441f1-fcc3-45bd-ae9f-5b4576121801 pre{padding: 0;}#sk-7da441f1-fcc3-45bd-ae9f-5b4576121801 div.sk-toggleable {background-color: white;}#sk-7da441f1-fcc3-45bd-ae9f-5b4576121801 label.sk-toggleable__label {cursor: pointer;display: block;width: 100%;margin-bottom: 0;padding: 0.3em;box-sizing: border-box;text-align: center;}#sk-7da441f1-fcc3-45bd-ae9f-5b4576121801 div.sk-toggleable__content {max-height: 0;max-width: 0;overflow: hidden;text-align: left;background-color: #f0f8ff;}#sk-7da441f1-fcc3-45bd-ae9f-5b4576121801 div.sk-toggleable__content pre {margin: 0.2em;color: black;border-radius: 0.25em;background-color: #f0f8ff;}#sk-7da441f1-fcc3-45bd-ae9f-5b4576121801 input.sk-toggleable__control:checked~div.sk-toggleable__content {max-height: 200px;max-width: 100%;overflow: auto;}#sk-7da441f1-fcc3-45bd-ae9f-5b4576121801 div.sk-estimator input.sk-toggleable__control:checked~label.sk-toggleable__label {background-color: #d4ebff;}#sk-7da441f1-fcc3-45bd-ae9f-5b4576121801 div.sk-label input.sk-toggleable__control:checked~label.sk-toggleable__label {background-color: #d4ebff;}#sk-7da441f1-fcc3-45bd-ae9f-5b4576121801 input.sk-hidden--visually {border: 0;clip: rect(1px 1px 1px 1px);clip: rect(1px, 1px, 1px, 1px);height: 1px;margin: -1px;overflow: hidden;padding: 0;position: absolute;width: 1px;}#sk-7da441f1-fcc3-45bd-ae9f-5b4576121801 div.sk-estimator {font-family: monospace;background-color: #f0f8ff;border: 1px dotted black;border-radius: 0.25em;box-sizing: border-box;margin-bottom: 0.5em;}#sk-7da441f1-fcc3-45bd-ae9f-5b4576121801 div.sk-estimator:hover {background-color: #d4ebff;}#sk-7da441f1-fcc3-45bd-ae9f-5b4576121801 div.sk-parallel-item::after {content: \"\";width: 100%;border-bottom: 1px solid gray;flex-grow: 1;}#sk-7da441f1-fcc3-45bd-ae9f-5b4576121801 div.sk-label:hover label.sk-toggleable__label {background-color: #d4ebff;}#sk-7da441f1-fcc3-45bd-ae9f-5b4576121801 div.sk-serial::before {content: \"\";position: absolute;border-left: 1px solid gray;box-sizing: border-box;top: 2em;bottom: 0;left: 50%;}#sk-7da441f1-fcc3-45bd-ae9f-5b4576121801 div.sk-serial {display: flex;flex-direction: column;align-items: center;background-color: white;padding-right: 0.2em;padding-left: 0.2em;}#sk-7da441f1-fcc3-45bd-ae9f-5b4576121801 div.sk-item {z-index: 1;}#sk-7da441f1-fcc3-45bd-ae9f-5b4576121801 div.sk-parallel {display: flex;align-items: stretch;justify-content: center;background-color: white;}#sk-7da441f1-fcc3-45bd-ae9f-5b4576121801 div.sk-parallel::before {content: \"\";position: absolute;border-left: 1px solid gray;box-sizing: border-box;top: 2em;bottom: 0;left: 50%;}#sk-7da441f1-fcc3-45bd-ae9f-5b4576121801 div.sk-parallel-item {display: flex;flex-direction: column;position: relative;background-color: white;}#sk-7da441f1-fcc3-45bd-ae9f-5b4576121801 div.sk-parallel-item:first-child::after {align-self: flex-end;width: 50%;}#sk-7da441f1-fcc3-45bd-ae9f-5b4576121801 div.sk-parallel-item:last-child::after {align-self: flex-start;width: 50%;}#sk-7da441f1-fcc3-45bd-ae9f-5b4576121801 div.sk-parallel-item:only-child::after {width: 0;}#sk-7da441f1-fcc3-45bd-ae9f-5b4576121801 div.sk-dashed-wrapped {border: 1px dashed gray;margin: 0 0.4em 0.5em 0.4em;box-sizing: border-box;padding-bottom: 0.4em;background-color: white;position: relative;}#sk-7da441f1-fcc3-45bd-ae9f-5b4576121801 div.sk-label label {font-family: monospace;font-weight: bold;background-color: white;display: inline-block;line-height: 1.2em;}#sk-7da441f1-fcc3-45bd-ae9f-5b4576121801 div.sk-label-container {position: relative;z-index: 2;text-align: center;}#sk-7da441f1-fcc3-45bd-ae9f-5b4576121801 div.sk-container {display: inline-block;position: relative;}</style><div id=\"sk-7da441f1-fcc3-45bd-ae9f-5b4576121801\" class\"sk-top-container\"><div class=\"sk-container\"><div class=\"sk-item sk-dashed-wrapped\"><div class=\"sk-label-container\"><div class=\"sk-label sk-toggleable\"><input class=\"sk-toggleable__control sk-hidden--visually\" id=\"1cd52b4b-bf9b-4e42-a77d-a02b1fb5fe63\" type=\"checkbox\" ><label class=\"sk-toggleable__label\" for=\"1cd52b4b-bf9b-4e42-a77d-a02b1fb5fe63\">Pipeline</label><div class=\"sk-toggleable__content\"><pre>Pipeline(steps=[('preprocessor',\n",
       "                 ColumnTransformer(transformers=[('numerical',\n",
       "                                                  Pipeline(steps=[('scaler',\n",
       "                                                                   StandardScaler())]),\n",
       "                                                  ['mileage', 'tax', 'mpg',\n",
       "                                                   'engineSize',\n",
       "                                                   'registrationAge']),\n",
       "                                                 ('categorical_low',\n",
       "                                                  OneHotEncoder(),\n",
       "                                                  ['transmission', 'fuelType']),\n",
       "                                                 ('categorical_model',\n",
       "                                                  HashingEncoder(max_process=2,\n",
       "                                                                 n_components=3),\n",
       "                                                  'model'),\n",
       "                                                 ('categorical_manufacter',\n",
       "                                                  HashingEncoder(max_process=2),\n",
       "                                                  'manufacter')])),\n",
       "                ('regressor', Ridge())])</pre></div></div></div><div class=\"sk-serial\"><div class=\"sk-item sk-dashed-wrapped\"><div class=\"sk-label-container\"><div class=\"sk-label sk-toggleable\"><input class=\"sk-toggleable__control sk-hidden--visually\" id=\"716c8d4d-479c-49c0-befd-8beafb569d18\" type=\"checkbox\" ><label class=\"sk-toggleable__label\" for=\"716c8d4d-479c-49c0-befd-8beafb569d18\">preprocessor: ColumnTransformer</label><div class=\"sk-toggleable__content\"><pre>ColumnTransformer(transformers=[('numerical',\n",
       "                                 Pipeline(steps=[('scaler', StandardScaler())]),\n",
       "                                 ['mileage', 'tax', 'mpg', 'engineSize',\n",
       "                                  'registrationAge']),\n",
       "                                ('categorical_low', OneHotEncoder(),\n",
       "                                 ['transmission', 'fuelType']),\n",
       "                                ('categorical_model',\n",
       "                                 HashingEncoder(max_process=2, n_components=3),\n",
       "                                 'model'),\n",
       "                                ('categorical_manufacter',\n",
       "                                 HashingEncoder(max_process=2), 'manufacter')])</pre></div></div></div><div class=\"sk-parallel\"><div class=\"sk-parallel-item\"><div class=\"sk-item\"><div class=\"sk-label-container\"><div class=\"sk-label sk-toggleable\"><input class=\"sk-toggleable__control sk-hidden--visually\" id=\"8a63cf1b-d436-4f13-b341-3bc6cee5c1c2\" type=\"checkbox\" ><label class=\"sk-toggleable__label\" for=\"8a63cf1b-d436-4f13-b341-3bc6cee5c1c2\">numerical</label><div class=\"sk-toggleable__content\"><pre>['mileage', 'tax', 'mpg', 'engineSize', 'registrationAge']</pre></div></div></div><div class=\"sk-serial\"><div class=\"sk-item\"><div class=\"sk-serial\"><div class=\"sk-item\"><div class=\"sk-estimator sk-toggleable\"><input class=\"sk-toggleable__control sk-hidden--visually\" id=\"bd050dc1-6338-4bd9-9fea-aec77f2de357\" type=\"checkbox\" ><label class=\"sk-toggleable__label\" for=\"bd050dc1-6338-4bd9-9fea-aec77f2de357\">StandardScaler</label><div class=\"sk-toggleable__content\"><pre>StandardScaler()</pre></div></div></div></div></div></div></div></div><div class=\"sk-parallel-item\"><div class=\"sk-item\"><div class=\"sk-label-container\"><div class=\"sk-label sk-toggleable\"><input class=\"sk-toggleable__control sk-hidden--visually\" id=\"173f5925-9bf6-42b2-bd87-2bb32a4b2e80\" type=\"checkbox\" ><label class=\"sk-toggleable__label\" for=\"173f5925-9bf6-42b2-bd87-2bb32a4b2e80\">categorical_low</label><div class=\"sk-toggleable__content\"><pre>['transmission', 'fuelType']</pre></div></div></div><div class=\"sk-serial\"><div class=\"sk-item\"><div class=\"sk-estimator sk-toggleable\"><input class=\"sk-toggleable__control sk-hidden--visually\" id=\"ab7093a2-dd26-43c4-a450-1d7c260c23b0\" type=\"checkbox\" ><label class=\"sk-toggleable__label\" for=\"ab7093a2-dd26-43c4-a450-1d7c260c23b0\">OneHotEncoder</label><div class=\"sk-toggleable__content\"><pre>OneHotEncoder()</pre></div></div></div></div></div></div><div class=\"sk-parallel-item\"><div class=\"sk-item\"><div class=\"sk-label-container\"><div class=\"sk-label sk-toggleable\"><input class=\"sk-toggleable__control sk-hidden--visually\" id=\"8bc64fa9-d7d4-4cb0-aa86-6aa22aad11a1\" type=\"checkbox\" ><label class=\"sk-toggleable__label\" for=\"8bc64fa9-d7d4-4cb0-aa86-6aa22aad11a1\">categorical_model</label><div class=\"sk-toggleable__content\"><pre>model</pre></div></div></div><div class=\"sk-serial\"><div class=\"sk-item\"><div class=\"sk-estimator sk-toggleable\"><input class=\"sk-toggleable__control sk-hidden--visually\" id=\"9dff346b-d4bc-46dd-b416-516753def50b\" type=\"checkbox\" ><label class=\"sk-toggleable__label\" for=\"9dff346b-d4bc-46dd-b416-516753def50b\">HashingEncoder</label><div class=\"sk-toggleable__content\"><pre>HashingEncoder(max_process=2, n_components=3)</pre></div></div></div></div></div></div><div class=\"sk-parallel-item\"><div class=\"sk-item\"><div class=\"sk-label-container\"><div class=\"sk-label sk-toggleable\"><input class=\"sk-toggleable__control sk-hidden--visually\" id=\"f439c8f1-1d59-45c4-b958-61c140900607\" type=\"checkbox\" ><label class=\"sk-toggleable__label\" for=\"f439c8f1-1d59-45c4-b958-61c140900607\">categorical_manufacter</label><div class=\"sk-toggleable__content\"><pre>manufacter</pre></div></div></div><div class=\"sk-serial\"><div class=\"sk-item\"><div class=\"sk-estimator sk-toggleable\"><input class=\"sk-toggleable__control sk-hidden--visually\" id=\"02fc9e73-65dd-4242-a23a-1bc3be59de4a\" type=\"checkbox\" ><label class=\"sk-toggleable__label\" for=\"02fc9e73-65dd-4242-a23a-1bc3be59de4a\">HashingEncoder</label><div class=\"sk-toggleable__content\"><pre>HashingEncoder(max_process=2)</pre></div></div></div></div></div></div></div></div><div class=\"sk-item\"><div class=\"sk-estimator sk-toggleable\"><input class=\"sk-toggleable__control sk-hidden--visually\" id=\"057e15a1-c56b-42d8-b847-fbe0c1ed3a9e\" type=\"checkbox\" ><label class=\"sk-toggleable__label\" for=\"057e15a1-c56b-42d8-b847-fbe0c1ed3a9e\">Ridge</label><div class=\"sk-toggleable__content\"><pre>Ridge()</pre></div></div></div></div></div></div></div>"
      ],
      "text/plain": [
       "Pipeline(steps=[('preprocessor',\n",
       "                 ColumnTransformer(transformers=[('numerical',\n",
       "                                                  Pipeline(steps=[('scaler',\n",
       "                                                                   StandardScaler())]),\n",
       "                                                  ['mileage', 'tax', 'mpg',\n",
       "                                                   'engineSize',\n",
       "                                                   'registrationAge']),\n",
       "                                                 ('categorical_low',\n",
       "                                                  OneHotEncoder(),\n",
       "                                                  ['transmission', 'fuelType']),\n",
       "                                                 ('categorical_model',\n",
       "                                                  HashingEncoder(max_process=2,\n",
       "                                                                 n_components=3),\n",
       "                                                  'model'),\n",
       "                                                 ('categorical_manufacter',\n",
       "                                                  HashingEncoder(max_process=2),\n",
       "                                                  'manufacter')])),\n",
       "                ('regressor', Ridge())])"
      ]
     },
     "execution_count": 23,
     "metadata": {},
     "output_type": "execute_result"
    }
   ],
   "source": [
    "# Define full pipeline\n",
    "regr = Pipeline(steps=[\n",
    "    ('preprocessor', preprocessor_hash),\n",
    "    ('regressor', Ridge())\n",
    "])\n",
    "\n",
    "regr"
   ]
  },
  {
   "cell_type": "code",
   "execution_count": 24,
   "metadata": {},
   "outputs": [
    {
     "name": "stdout",
     "output_type": "stream",
     "text": [
      "MSE (training): 0.25321404105869094\n",
      "MSE (test): 0.24357973728520607\n"
     ]
    }
   ],
   "source": [
    "# Fit the model\n",
    "regr.fit(X_train, y_train)\n",
    "\n",
    "# Show RMSE\n",
    "pred_train = regr.predict(X_train)\n",
    "print(f\"MSE (training): {mean_squared_error(y_train, pred_train, squared=True)}\")\n",
    "\n",
    "pred_test = regr.predict(X_test)\n",
    "print(f\"MSE (test): {mean_squared_error(y_test, pred_test, squared=True)}\")"
   ]
  },
  {
   "cell_type": "code",
   "execution_count": null,
   "metadata": {},
   "outputs": [],
   "source": [
    "# Optimize model\n",
    "param_grid = {\n",
    "    'preprocessor__categorical_model__n_components': np.arange(2, 5),\n",
    "    'preprocessor__categorical_manufacter__n_components': np.arange(2, 10),\n",
    "    'regressor__n_estimators': np.arange(50, 200, 25),\n",
    "    'regressor__max_depth': np.arange(2, 20)\n",
    "}\n",
    "\n",
    "grid_search = GridSearchCV(regr, param_grid, cv=10, n_jobs=2)\n",
    "grid_search"
   ]
  },
  {
   "cell_type": "code",
   "execution_count": null,
   "metadata": {},
   "outputs": [],
   "source": [
    "grid_search.fit(X_train, y_train)\n",
    "\n",
    "print(\"Best params:\")\n",
    "print(grid_search.best_params_)"
   ]
  },
  {
   "cell_type": "code",
   "execution_count": null,
   "metadata": {},
   "outputs": [],
   "source": [
    "# Define full pipeline\n",
    "regr = Pipeline(steps=[\n",
    "    ('preprocessor', preprocessor_bin),\n",
    "    ('regressor', Ridge())\n",
    "])\n",
    "\n",
    "# Fit the model\n",
    "regr.fit(X_train, y_train)\n",
    "\n",
    "# Show RMSE\n",
    "pred_train = regr.predict(X_train)\n",
    "print(f\"RMSE (training): {mean_squared_error(y_train, pred_train, squared=False)}\")\n",
    "\n",
    "pred_test = regr.predict(X_test)\n",
    "print(f\"RMSE (test): {mean_squared_error(y_test, pred_test, squared=False)}\")"
   ]
  },
  {
   "cell_type": "markdown",
   "metadata": {},
   "source": [
    "### Export model"
   ]
  },
  {
   "cell_type": "code",
   "execution_count": 29,
   "metadata": {},
   "outputs": [],
   "source": [
    "with open('model.zlib', 'wb') as file:\n",
    "    joblib.dump(regr, file)"
   ]
  },
  {
   "cell_type": "markdown",
   "metadata": {},
   "source": [
    "### Test model import"
   ]
  },
  {
   "cell_type": "code",
   "execution_count": 43,
   "metadata": {},
   "outputs": [],
   "source": [
    "regr_disk = joblib.load('model.zlib')"
   ]
  },
  {
   "cell_type": "code",
   "execution_count": 33,
   "metadata": {},
   "outputs": [
    {
     "name": "stderr",
     "output_type": "stream",
     "text": [
      "[Parallel(n_jobs=1)]: Using backend SequentialBackend with 1 concurrent workers.\n",
      "[Parallel(n_jobs=1)]: Done 100 out of 100 | elapsed:    0.1s finished\n"
     ]
    },
    {
     "name": "stdout",
     "output_type": "stream",
     "text": [
      "Unscaled prediction -0.05448492062223469\n",
      "transformed_prediction [16267.76]\n"
     ]
    }
   ],
   "source": [
    "result = regr_disk.predict(X_test[:10])\n",
    "print(f\"Unscaled prediction {result.tolist()[0]}\")\n",
    "transformed_prediction = price_scaler.inverse_transform(result.reshape(-1,1)) # Note the price_scaler is the target scaler\n",
    "print(f\"transformed_prediction {transformed_prediction.tolist()[0]}\")"
   ]
  }
 ],
 "metadata": {
  "interpreter": {
   "hash": "66577a364b043c02e8501f1abdeb2b42ef3eb0219e3bdee051fff2873e199fe0"
  },
  "kernelspec": {
   "display_name": "Python 3.9.7 64-bit ('training': conda)",
   "name": "python3"
  },
  "language_info": {
   "codemirror_mode": {
    "name": "ipython",
    "version": 3
   },
   "file_extension": ".py",
   "mimetype": "text/x-python",
   "name": "python",
   "nbconvert_exporter": "python",
   "pygments_lexer": "ipython3",
   "version": "3.9.7"
  },
  "orig_nbformat": 4
 },
 "nbformat": 4,
 "nbformat_minor": 2
}
